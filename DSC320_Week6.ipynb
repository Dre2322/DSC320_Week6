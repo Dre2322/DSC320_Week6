{
 "cells": [
  {
   "cell_type": "code",
   "execution_count": null,
   "id": "ad75dfe3",
   "metadata": {},
   "outputs": [],
   "source": [
    "# Data Normalization\n",
    "\n",
    "# Function to normalize the data\n",
    "def normalize(vector):\n",
    "  return (vector - min(vector)) / (max(vector) - min(vector))"
   ]
  },
  {
   "cell_type": "code",
   "execution_count": null,
   "id": "92fbb4e3",
   "metadata": {},
   "outputs": [],
   "source": [
    "# Data Standardization\n",
    "\n",
    "# Function to standardize the data\n",
    "def standard(vector):\n",
    "  scaler = StandardScaler()\n",
    "  scaler_data = scaler.fit_transform(vector)\n",
    "  return pd.DataFrame(scaler_data)"
   ]
  },
  {
   "cell_type": "code",
   "execution_count": 1,
   "id": "05dd4e44",
   "metadata": {},
   "outputs": [
    {
     "name": "stdout",
     "output_type": "stream",
     "text": [
      "20640\n"
     ]
    }
   ],
   "source": [
    "# Working with a dataframe\n",
    "# a\n",
    "\n",
    "import pandas as pd\n",
    "\n",
    "# read data from file\n",
    "df = pd.read_csv('calif_housing_data.csv')\n",
    "\n",
    "# count the number of rows\n",
    "print(df.shape[0])\n"
   ]
  },
  {
   "cell_type": "code",
   "execution_count": 2,
   "id": "a5ca3bd8",
   "metadata": {},
   "outputs": [
    {
     "name": "stdout",
     "output_type": "stream",
     "text": [
      "0    452600.0\n",
      "1    358500.0\n",
      "2    352100.0\n",
      "3    341300.0\n",
      "4    342200.0\n",
      "Name: median_house_value, dtype: float64\n"
     ]
    }
   ],
   "source": [
    "# b\n",
    "\n",
    "import pandas as pd\n",
    "\n",
    "# read data from file\n",
    "df = pd.read_csv('calif_housing_data.csv')\n",
    "\n",
    "# drop median house value column\n",
    "x = df.drop('median_house_value', axis=1)\n",
    "\n",
    "# drop\n",
    "y = df.pop('median_house_value')\n",
    "\n",
    "# print first 5 rows\n",
    "print(y.head())\n"
   ]
  },
  {
   "cell_type": "code",
   "execution_count": 3,
   "id": "49bc46cb",
   "metadata": {},
   "outputs": [
    {
     "name": "stdout",
     "output_type": "stream",
     "text": [
      "Average bedrooms per household: \n",
      "0    1.023810\n",
      "1    0.971880\n",
      "2    1.073446\n",
      "3    1.073059\n",
      "4    1.081081\n",
      "dtype: float64\n"
     ]
    }
   ],
   "source": [
    "# c\n",
    "\n",
    "import pandas as pd\n",
    "\n",
    "# read data from file\n",
    "df = pd.read_csv('calif_housing_data.csv')\n",
    "\n",
    "# get the total bedrooms from data\n",
    "x = df['total_bedrooms']\n",
    "\n",
    "# get the number of households from data\n",
    "y = df['households']\n",
    "\n",
    "# take total bedrooms divided by the number of households\n",
    "z = x / y\n",
    "\n",
    "# print the result\n",
    "print(f'Average bedrooms per household: \\n{z.head()}')"
   ]
  },
  {
   "cell_type": "code",
   "execution_count": 5,
   "id": "05e6a7ae",
   "metadata": {
    "scrolled": true
   },
   "outputs": [
    {
     "name": "stdout",
     "output_type": "stream",
     "text": [
      "   total_bedrooms  households  average_bed_house\n",
      "0           129.0         126           1.023810\n",
      "1          1106.0        1138           0.971880\n",
      "2           190.0         177           1.073446\n",
      "3           235.0         219           1.073059\n",
      "4           280.0         259           1.081081\n"
     ]
    }
   ],
   "source": [
    "# d\n",
    "\n",
    "import pandas as pd\n",
    "\n",
    "# read data from file\n",
    "df = pd.read_csv('calif_housing_data.csv')\n",
    "\n",
    "# get the total bedrooms from data\n",
    "x = df['total_bedrooms']\n",
    "\n",
    "# get the number of households from data\n",
    "y = df['households']\n",
    "\n",
    "# take total bedrooms divided by the number of households\n",
    "z = x / y\n",
    "\n",
    "# create dataframe containing x, y, and z\n",
    "df2 = pd.DataFrame({'total_bedrooms': x, 'households': y, 'average_bed_house': z})\n",
    "\n",
    "# print the dataframe\n",
    "print(df2.head())"
   ]
  },
  {
   "cell_type": "code",
   "execution_count": 6,
   "id": "1124a46b",
   "metadata": {},
   "outputs": [
    {
     "name": "stdout",
     "output_type": "stream",
     "text": [
      "The standardized dataframe is: \n",
      "          0         1         2\n",
      "0 -0.970325 -0.977033 -0.153863\n",
      "1  1.348276  1.669961 -0.262936\n",
      "2 -0.825561 -0.843637 -0.049604\n",
      "3 -0.718768 -0.733781 -0.050417\n",
      "4 -0.611974 -0.629157 -0.033568\n"
     ]
    }
   ],
   "source": [
    "# e\n",
    "\n",
    "import pandas as pd\n",
    "from sklearn.preprocessing import StandardScaler\n",
    "\n",
    "# Function to standardize the data\n",
    "def standard(vector):\n",
    "  scaler = StandardScaler()\n",
    "  scaler_data = scaler.fit_transform(vector)\n",
    "  return pd.DataFrame(scaler_data)\n",
    "  \n",
    "# read data from file\n",
    "df = pd.read_csv('calif_housing_data.csv')\n",
    "\n",
    "# get the total bedrooms from data\n",
    "x = df['total_bedrooms']\n",
    "\n",
    "# get the number of households from data\n",
    "y = df['households']\n",
    "\n",
    "# take total bedrooms divided by the number of households\n",
    "z = x / y\n",
    "\n",
    "# create dataframe containing x, y, and z\n",
    "df2 = pd.DataFrame({'total_bedrooms': x, 'households': y, 'average_bed_house': z})\n",
    "\n",
    "# take df2 and standardize the data\n",
    "df3 = standard(df2)\n",
    "\n",
    "# print the dataframe\n",
    "print(f'The standardized dataframe is: \\n{df3.head()}')"
   ]
  }
 ],
 "metadata": {
  "kernelspec": {
   "display_name": "Python 3 (ipykernel)",
   "language": "python",
   "name": "python3"
  },
  "language_info": {
   "codemirror_mode": {
    "name": "ipython",
    "version": 3
   },
   "file_extension": ".py",
   "mimetype": "text/x-python",
   "name": "python",
   "nbconvert_exporter": "python",
   "pygments_lexer": "ipython3",
   "version": "3.11.5"
  }
 },
 "nbformat": 4,
 "nbformat_minor": 5
}
